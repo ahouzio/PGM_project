{
  "nbformat": 4,
  "nbformat_minor": 0,
  "metadata": {
    "colab": {
      "provenance": [],
      "gpuType": "T4",
      "authorship_tag": "ABX9TyM+XBOe3Eqfl5ul8VN5H6EQ",
      "include_colab_link": true
    },
    "kernelspec": {
      "name": "python3",
      "display_name": "Python 3"
    },
    "language_info": {
      "name": "python"
    },
    "accelerator": "GPU"
  },
  "cells": [
    {
      "cell_type": "markdown",
      "metadata": {
        "id": "view-in-github",
        "colab_type": "text"
      },
      "source": [
        "<a href=\"https://colab.research.google.com/github/ahouzio/PGM_project/blob/main/score_matching.ipynb\" target=\"_parent\"><img src=\"https://colab.research.google.com/assets/colab-badge.svg\" alt=\"Open In Colab\"/></a>"
      ]
    },
    {
      "cell_type": "code",
      "source": [
        "import torch\n",
        "import torch.nn as nn\n",
        "import torch.optim as optim\n",
        "from torchvision import datasets, transforms\n",
        "import numpy as np\n",
        "import torch.nn.functional as F"
      ],
      "metadata": {
        "id": "aydVr7_EK6VP"
      },
      "execution_count": null,
      "outputs": []
    },
    {
      "cell_type": "code",
      "source": [
        "transform = transforms.Compose([transforms.ToTensor(),\n",
        "                                transforms.Normalize((0.5,), (0.5,))])\n",
        "\n",
        "trainset = datasets.MNIST(root='./data', train=True, download=True, transform=transform)\n",
        "trainloader = torch.utils.data.DataLoader(trainset, batch_size=64, shuffle=True)\n",
        "\n",
        "# Function to add noise - this is a basic implementation\n",
        "def add_noise(inputs, noise_factor=0.5):\n",
        "    noisy = inputs + noise_factor * torch.randn_like(inputs)\n",
        "    noisy = torch.clip(noisy, 0., 1.)\n",
        "    return noisy\n"
      ],
      "metadata": {
        "colab": {
          "base_uri": "https://localhost:8080/"
        },
        "id": "qmLLLYVUK1Gk",
        "outputId": "46191f79-193b-4df5-c0c5-432d7e70f908"
      },
      "execution_count": null,
      "outputs": [
        {
          "output_type": "stream",
          "name": "stdout",
          "text": [
            "Downloading http://yann.lecun.com/exdb/mnist/train-images-idx3-ubyte.gz\n",
            "Downloading http://yann.lecun.com/exdb/mnist/train-images-idx3-ubyte.gz to ./data/MNIST/raw/train-images-idx3-ubyte.gz\n"
          ]
        },
        {
          "output_type": "stream",
          "name": "stderr",
          "text": [
            "100%|██████████| 9912422/9912422 [00:00<00:00, 148953354.10it/s]\n"
          ]
        },
        {
          "output_type": "stream",
          "name": "stdout",
          "text": [
            "Extracting ./data/MNIST/raw/train-images-idx3-ubyte.gz to ./data/MNIST/raw\n",
            "\n",
            "Downloading http://yann.lecun.com/exdb/mnist/train-labels-idx1-ubyte.gz\n",
            "Downloading http://yann.lecun.com/exdb/mnist/train-labels-idx1-ubyte.gz to ./data/MNIST/raw/train-labels-idx1-ubyte.gz\n"
          ]
        },
        {
          "output_type": "stream",
          "name": "stderr",
          "text": [
            "100%|██████████| 28881/28881 [00:00<00:00, 109625062.28it/s]\n"
          ]
        },
        {
          "output_type": "stream",
          "name": "stdout",
          "text": [
            "Extracting ./data/MNIST/raw/train-labels-idx1-ubyte.gz to ./data/MNIST/raw\n",
            "\n",
            "Downloading http://yann.lecun.com/exdb/mnist/t10k-images-idx3-ubyte.gz\n",
            "Downloading http://yann.lecun.com/exdb/mnist/t10k-images-idx3-ubyte.gz to ./data/MNIST/raw/t10k-images-idx3-ubyte.gz\n"
          ]
        },
        {
          "output_type": "stream",
          "name": "stderr",
          "text": [
            "100%|██████████| 1648877/1648877 [00:00<00:00, 33723717.65it/s]"
          ]
        },
        {
          "output_type": "stream",
          "name": "stdout",
          "text": [
            "Extracting ./data/MNIST/raw/t10k-images-idx3-ubyte.gz to ./data/MNIST/raw\n"
          ]
        },
        {
          "output_type": "stream",
          "name": "stderr",
          "text": [
            "\n"
          ]
        },
        {
          "output_type": "stream",
          "name": "stdout",
          "text": [
            "\n",
            "Downloading http://yann.lecun.com/exdb/mnist/t10k-labels-idx1-ubyte.gz\n",
            "Downloading http://yann.lecun.com/exdb/mnist/t10k-labels-idx1-ubyte.gz to ./data/MNIST/raw/t10k-labels-idx1-ubyte.gz\n"
          ]
        },
        {
          "output_type": "stream",
          "name": "stderr",
          "text": [
            "100%|██████████| 4542/4542 [00:00<00:00, 19340638.34it/s]\n"
          ]
        },
        {
          "output_type": "stream",
          "name": "stdout",
          "text": [
            "Extracting ./data/MNIST/raw/t10k-labels-idx1-ubyte.gz to ./data/MNIST/raw\n",
            "\n"
          ]
        }
      ]
    },
    {
      "cell_type": "code",
      "source": [
        "class ScoreEstimationModel(nn.Module):\n",
        "    def __init__(self, input_channels, output_size):\n",
        "        super(ScoreEstimationModel, self).__init__()\n",
        "        # Convolutional layers\n",
        "        self.conv1 = nn.Conv2d(in_channels=input_channels, out_channels=32, kernel_size=3, padding=1)\n",
        "        self.pool = nn.MaxPool2d(kernel_size=2, stride=2)\n",
        "        self.conv2 = nn.Conv2d(in_channels=32, out_channels=64, kernel_size=3, padding=1)\n",
        "        self.conv3 = nn.Conv2d(in_channels=64, out_channels=64, kernel_size=3, padding=1)\n",
        "\n",
        "        # Adaptive pooling layer to flatten the output regardless of input image size\n",
        "        self.adaptive_pool = nn.AdaptiveAvgPool2d((4, 4))\n",
        "\n",
        "        # Fully connected layers\n",
        "        self.fc1 = nn.Linear(64 * 4 * 4, 64)  # 64 channels, 4x4 spatial dimensions\n",
        "        self.fc2 = nn.Linear(64, output_size)\n",
        "\n",
        "    def forward(self, x):\n",
        "        # Applying layers in forward pass\n",
        "        x = self.pool(F.relu(self.conv1(x)))\n",
        "        x = self.pool(F.relu(self.conv2(x)))\n",
        "        x = F.relu(self.conv3(x))\n",
        "\n",
        "        # Adaptive pooling and flattening\n",
        "        x = self.adaptive_pool(x)\n",
        "        x = torch.flatten(x, 1)\n",
        "\n",
        "        # Fully connected layers\n",
        "        x = F.relu(self.fc1(x))\n",
        "        x = self.fc2(x)\n",
        "        return x"
      ],
      "metadata": {
        "id": "9wuKyE0MQJ7m"
      },
      "execution_count": null,
      "outputs": []
    },
    {
      "cell_type": "code",
      "source": [
        "input_channels = 1  # For grayscale images like MNIST\n",
        "output_size = 28 * 28  # Flattened size of the output image (e.g., for MNIST)\n",
        "\n",
        "model = ScoreEstimationModel(input_channels, output_size)"
      ],
      "metadata": {
        "id": "nGXfyXnKQMCw"
      },
      "execution_count": null,
      "outputs": []
    },
    {
      "cell_type": "code",
      "source": [
        "criterion = nn.MSELoss()\n",
        "optimizer = optim.Adam(model.parameters(), lr=0.001)\n"
      ],
      "metadata": {
        "id": "RhbTsd_XQ3VA"
      },
      "execution_count": null,
      "outputs": []
    },
    {
      "cell_type": "code",
      "source": [
        "print_interval = 100  # Print every 100 batches\n",
        "num_epochs = 10\n",
        "for epoch in range(10):\n",
        "    running_loss = 0.0\n",
        "    for i, data in enumerate(trainloader, 0):\n",
        "        inputs, _ = data\n",
        "        noisy_inputs = add_noise(inputs)\n",
        "        inputs_flat = inputs.view(inputs.size(0), -1)  # Flatten the target images\n",
        "\n",
        "        optimizer.zero_grad()\n",
        "\n",
        "        # Forward pass\n",
        "        outputs = model(noisy_inputs)\n",
        "        loss = criterion(outputs, inputs_flat)\n",
        "\n",
        "        # Backward pass and optimize\n",
        "        loss.backward()\n",
        "        optimizer.step()\n",
        "\n",
        "        running_loss += loss.item()\n",
        "        if (i + 1) % print_interval == 0:  # Print every 'print_interval' batches\n",
        "            print(f\"Epoch [{epoch+1}/{num_epochs}], Step [{i+1}/{len(trainloader)}], Loss: {running_loss/print_interval:.4f}\")\n",
        "            running_loss = 0.0\n",
        "\n"
      ],
      "metadata": {
        "colab": {
          "base_uri": "https://localhost:8080/"
        },
        "id": "vMohrLfAQ3R5",
        "outputId": "f7ec1a59-aeb9-429c-9a15-2b1d72ceb2c6"
      },
      "execution_count": null,
      "outputs": [
        {
          "output_type": "stream",
          "name": "stdout",
          "text": [
            "Epoch [1/10], Step [100/938], Loss: 0.1256\n",
            "Epoch [1/10], Step [200/938], Loss: 0.1211\n",
            "Epoch [1/10], Step [300/938], Loss: 0.1181\n",
            "Epoch [1/10], Step [400/938], Loss: 0.1133\n",
            "Epoch [1/10], Step [500/938], Loss: 0.1116\n",
            "Epoch [1/10], Step [600/938], Loss: 0.1089\n",
            "Epoch [1/10], Step [700/938], Loss: 0.1062\n",
            "Epoch [1/10], Step [800/938], Loss: 0.1044\n",
            "Epoch [1/10], Step [900/938], Loss: 0.1035\n",
            "Epoch [2/10], Step [100/938], Loss: 0.1010\n",
            "Epoch [2/10], Step [200/938], Loss: 0.1000\n",
            "Epoch [2/10], Step [300/938], Loss: 0.0985\n",
            "Epoch [2/10], Step [400/938], Loss: 0.0974\n",
            "Epoch [2/10], Step [500/938], Loss: 0.0964\n",
            "Epoch [2/10], Step [600/938], Loss: 0.0950\n",
            "Epoch [2/10], Step [700/938], Loss: 0.0945\n",
            "Epoch [2/10], Step [800/938], Loss: 0.0950\n",
            "Epoch [2/10], Step [900/938], Loss: 0.0938\n",
            "Epoch [3/10], Step [100/938], Loss: 0.0940\n",
            "Epoch [3/10], Step [200/938], Loss: 0.0932\n",
            "Epoch [3/10], Step [300/938], Loss: 0.0924\n",
            "Epoch [3/10], Step [400/938], Loss: 0.0918\n",
            "Epoch [3/10], Step [500/938], Loss: 0.0923\n",
            "Epoch [3/10], Step [600/938], Loss: 0.0921\n",
            "Epoch [3/10], Step [700/938], Loss: 0.0932\n",
            "Epoch [3/10], Step [800/938], Loss: 0.0917\n",
            "Epoch [3/10], Step [900/938], Loss: 0.0922\n",
            "Epoch [4/10], Step [100/938], Loss: 0.0917\n",
            "Epoch [4/10], Step [200/938], Loss: 0.0909\n",
            "Epoch [4/10], Step [300/938], Loss: 0.0915\n",
            "Epoch [4/10], Step [400/938], Loss: 0.0908\n",
            "Epoch [4/10], Step [500/938], Loss: 0.0910\n",
            "Epoch [4/10], Step [600/938], Loss: 0.0914\n",
            "Epoch [4/10], Step [700/938], Loss: 0.0910\n",
            "Epoch [4/10], Step [800/938], Loss: 0.0909\n",
            "Epoch [4/10], Step [900/938], Loss: 0.0910\n",
            "Epoch [5/10], Step [100/938], Loss: 0.0903\n",
            "Epoch [5/10], Step [200/938], Loss: 0.0903\n",
            "Epoch [5/10], Step [300/938], Loss: 0.0905\n",
            "Epoch [5/10], Step [400/938], Loss: 0.0904\n",
            "Epoch [5/10], Step [500/938], Loss: 0.0906\n",
            "Epoch [5/10], Step [600/938], Loss: 0.0902\n",
            "Epoch [5/10], Step [700/938], Loss: 0.0899\n",
            "Epoch [5/10], Step [800/938], Loss: 0.0902\n",
            "Epoch [5/10], Step [900/938], Loss: 0.0900\n",
            "Epoch [6/10], Step [100/938], Loss: 0.0902\n",
            "Epoch [6/10], Step [200/938], Loss: 0.0905\n",
            "Epoch [6/10], Step [300/938], Loss: 0.0897\n",
            "Epoch [6/10], Step [400/938], Loss: 0.0888\n",
            "Epoch [6/10], Step [500/938], Loss: 0.0893\n",
            "Epoch [6/10], Step [600/938], Loss: 0.0898\n",
            "Epoch [6/10], Step [700/938], Loss: 0.0904\n",
            "Epoch [6/10], Step [800/938], Loss: 0.0899\n",
            "Epoch [6/10], Step [900/938], Loss: 0.0889\n",
            "Epoch [7/10], Step [100/938], Loss: 0.0892\n",
            "Epoch [7/10], Step [200/938], Loss: 0.0895\n",
            "Epoch [7/10], Step [300/938], Loss: 0.0890\n",
            "Epoch [7/10], Step [400/938], Loss: 0.0893\n",
            "Epoch [7/10], Step [500/938], Loss: 0.0892\n",
            "Epoch [7/10], Step [600/938], Loss: 0.0901\n",
            "Epoch [7/10], Step [700/938], Loss: 0.0893\n",
            "Epoch [7/10], Step [800/938], Loss: 0.0890\n",
            "Epoch [7/10], Step [900/938], Loss: 0.0893\n",
            "Epoch [8/10], Step [100/938], Loss: 0.0884\n",
            "Epoch [8/10], Step [200/938], Loss: 0.0886\n",
            "Epoch [8/10], Step [300/938], Loss: 0.0896\n",
            "Epoch [8/10], Step [400/938], Loss: 0.0890\n",
            "Epoch [8/10], Step [500/938], Loss: 0.0885\n",
            "Epoch [8/10], Step [600/938], Loss: 0.0893\n",
            "Epoch [8/10], Step [700/938], Loss: 0.0891\n",
            "Epoch [8/10], Step [800/938], Loss: 0.0894\n",
            "Epoch [8/10], Step [900/938], Loss: 0.0892\n",
            "Epoch [9/10], Step [100/938], Loss: 0.0900\n",
            "Epoch [9/10], Step [200/938], Loss: 0.0889\n",
            "Epoch [9/10], Step [300/938], Loss: 0.0892\n",
            "Epoch [9/10], Step [400/938], Loss: 0.0881\n",
            "Epoch [9/10], Step [500/938], Loss: 0.0883\n",
            "Epoch [9/10], Step [600/938], Loss: 0.0885\n",
            "Epoch [9/10], Step [700/938], Loss: 0.0883\n",
            "Epoch [9/10], Step [800/938], Loss: 0.0887\n",
            "Epoch [9/10], Step [900/938], Loss: 0.0886\n",
            "Epoch [10/10], Step [100/938], Loss: 0.0897\n",
            "Epoch [10/10], Step [200/938], Loss: 0.0886\n",
            "Epoch [10/10], Step [300/938], Loss: 0.0879\n",
            "Epoch [10/10], Step [400/938], Loss: 0.0887\n",
            "Epoch [10/10], Step [500/938], Loss: 0.0883\n",
            "Epoch [10/10], Step [600/938], Loss: 0.0886\n",
            "Epoch [10/10], Step [700/938], Loss: 0.0884\n",
            "Epoch [10/10], Step [800/938], Loss: 0.0875\n",
            "Epoch [10/10], Step [900/938], Loss: 0.0883\n"
          ]
        }
      ]
    },
    {
      "cell_type": "code",
      "source": [
        "# Assuming you've already imported necessary modules and defined 'transform'\n",
        "# If not, you can import them as follows:\n",
        "# import torch\n",
        "# from torchvision import datasets, transforms\n",
        "# from torch.utils.data import DataLoader\n",
        "\n",
        "# Load the test dataset\n",
        "testset = datasets.MNIST(root='./data', train=False, download=True, transform=transform)\n",
        "\n",
        "# Create the DataLoader for the test dataset\n",
        "testloader = torch.utils.data.DataLoader(testset, batch_size=64, shuffle=False)"
      ],
      "metadata": {
        "id": "knlMUBTsXLW0"
      },
      "execution_count": null,
      "outputs": []
    },
    {
      "cell_type": "code",
      "source": [
        "dataiter = iter(testloader)\n",
        "images, _ = next(dataiter)\n",
        "noisy_images = add_noise(images)\n",
        "\n",
        "# Denoise the images using the model\n",
        "model.eval()\n",
        "with torch.no_grad():\n",
        "    denoised_images = model(noisy_images)\n",
        "    denoised_images = denoised_images.view_as(images)  # Reshape back to original dimensions\n",
        "\n",
        "# Convert to numpy for display\n",
        "original_images = images.numpy()\n",
        "noisy_images = noisy_images.numpy()\n",
        "denoised_images = denoised_images.numpy()\n"
      ],
      "metadata": {
        "id": "YvEKDRjXZgW3"
      },
      "execution_count": null,
      "outputs": []
    },
    {
      "cell_type": "code",
      "source": [
        "import matplotlib.pyplot as plt"
      ],
      "metadata": {
        "id": "IGeuw3inZt-X"
      },
      "execution_count": null,
      "outputs": []
    },
    {
      "cell_type": "code",
      "source": [
        "def plot_images(original, noisy, denoised, num_images=5):\n",
        "    plt.figure(figsize=(15, 5))\n",
        "    for i in range(num_images):\n",
        "        # Original Images\n",
        "        plt.subplot(3, num_images, i+1)\n",
        "        plt.imshow(original[i].squeeze(), cmap='gray')\n",
        "        plt.title(\"Original\")\n",
        "        plt.axis('off')\n",
        "\n",
        "        # Noisy Images\n",
        "        plt.subplot(3, num_images, num_images+i+1)\n",
        "        plt.imshow(noisy[i].squeeze(), cmap='gray')\n",
        "        plt.title(\"Noisy\")\n",
        "        plt.axis('off')\n",
        "\n",
        "        # Denoised Images\n",
        "        plt.subplot(3, num_images, 2*num_images+i+1)\n",
        "        plt.imshow(denoised[i].squeeze(), cmap='gray')\n",
        "        plt.title(\"Denoised\")\n",
        "        plt.axis('off')\n",
        "\n",
        "    plt.show()"
      ],
      "metadata": {
        "id": "rWhL_WFbZsFR"
      },
      "execution_count": null,
      "outputs": []
    },
    {
      "cell_type": "code",
      "source": [
        "# Plot the images using your defined 'plot_images' function\n",
        "plot_images(original_images, noisy_images, denoised_images)"
      ],
      "metadata": {
        "colab": {
          "base_uri": "https://localhost:8080/",
          "height": 444
        },
        "id": "0ZTgS_MmUt0Z",
        "outputId": "4c95439c-fbe8-4973-e799-caf56c7e60a3"
      },
      "execution_count": null,
      "outputs": [
        {
          "output_type": "display_data",
          "data": {
            "text/plain": [
              "<Figure size 1500x500 with 15 Axes>"
            ],
            "image/png": "[encoded data removed]"
          },
          "metadata": {}
        }
      ]
    },
    {
      "cell_type": "code",
      "source": [
        "torch.save(model.state_dict(), 'model_state_dict.pth')"
      ],
      "metadata": {
        "id": "aGMZ0JkieLph"
      },
      "execution_count": null,
      "outputs": []
    },
    {
      "cell_type": "code",
      "source": [
        "from google.colab import files\n",
        "files.download('model_state_dict.pth')"
      ],
      "metadata": {
        "colab": {
          "base_uri": "https://localhost:8080/",
          "height": 17
        },
        "id": "vz7Iz3yyUtwu",
        "outputId": "32793f93-8418-407b-84b7-604f0543ca83"
      },
      "execution_count": null,
      "outputs": [
        {
          "output_type": "display_data",
          "data": {
            "text/plain": [
              "<IPython.core.display.Javascript object>"
            ],
            "application/javascript": [
              "\n",
              "    async function download(id, filename, size) {\n",
              "      if (!google.colab.kernel.accessAllowed) {\n",
              "        return;\n",
              "      }\n",
              "      const div = document.createElement('div');\n",
              "      const label = document.createElement('label');\n",
              "      label.textContent = `Downloading \"${filename}\": `;\n",
              "      div.appendChild(label);\n",
              "      const progress = document.createElement('progress');\n",
              "      progress.max = size;\n",
              "      div.appendChild(progress);\n",
              "      document.body.appendChild(div);\n",
              "\n",
              "      const buffers = [];\n",
              "      let downloaded = 0;\n",
              "\n",
              "      const channel = await google.colab.kernel.comms.open(id);\n",
              "      // Send a message to notify the kernel that we're ready.\n",
              "      channel.send({})\n",
              "\n",
              "      for await (const message of channel.messages) {\n",
              "        // Send a message to notify the kernel that we're ready.\n",
              "        channel.send({})\n",
              "        if (message.buffers) {\n",
              "          for (const buffer of message.buffers) {\n",
              "            buffers.push(buffer);\n",
              "            downloaded += buffer.byteLength;\n",
              "            progress.value = downloaded;\n",
              "          }\n",
              "        }\n",
              "      }\n",
              "      const blob = new Blob(buffers, {type: 'application/binary'});\n",
              "      const a = document.createElement('a');\n",
              "      a.href = window.URL.createObjectURL(blob);\n",
              "      a.download = filename;\n",
              "      div.appendChild(a);\n",
              "      a.click();\n",
              "      div.remove();\n",
              "    }\n",
              "  "
            ]
          },
          "metadata": {}
        },
        {
          "output_type": "display_data",
          "data": {
            "text/plain": [
              "<IPython.core.display.Javascript object>"
            ],
            "application/javascript": [
              "download(\"download_9ec9c816-1de0-4054-9118-a4ebbfec7622\", \"model_state_dict.pth\", 693110)"
            ]
          },
          "metadata": {}
        }
      ]
    },
    {
      "cell_type": "code",
      "source": [],
      "metadata": {
        "id": "GWyMLOTnTtcH"
      },
      "execution_count": null,
      "outputs": []
    },
    {
      "cell_type": "code",
      "source": [],
      "metadata": {
        "id": "zWO8_hUETtZC"
      },
      "execution_count": null,
      "outputs": []
    },
    {
      "cell_type": "code",
      "source": [],
      "metadata": {
        "id": "nfzdfWO-TtVw"
      },
      "execution_count": null,
      "outputs": []
    },
    {
      "cell_type": "code",
      "source": [],
      "metadata": {
        "id": "S6haKlcmTtSP"
      },
      "execution_count": null,
      "outputs": []
    },
    {
      "cell_type": "code",
      "source": [],
      "metadata": {
        "id": "vT9533V2TtPa"
      },
      "execution_count": null,
      "outputs": []
    },
    {
      "cell_type": "code",
      "source": [],
      "metadata": {
        "id": "aalucv3bTtMA"
      },
      "execution_count": null,
      "outputs": []
    },
    {
      "cell_type": "code",
      "source": [],
      "metadata": {
        "id": "tIA-v-XgQ3PR"
      },
      "execution_count": null,
      "outputs": []
    },
    {
      "cell_type": "code",
      "source": [],
      "metadata": {
        "id": "IMt8-vghQ3Ms"
      },
      "execution_count": null,
      "outputs": []
    },
    {
      "cell_type": "code",
      "source": [],
      "metadata": {
        "id": "8jvmcIjnQ3KE"
      },
      "execution_count": null,
      "outputs": []
    },
    {
      "cell_type": "code",
      "source": [],
      "metadata": {
        "id": "UYdqePZSQ3HO"
      },
      "execution_count": null,
      "outputs": []
    },
    {
      "cell_type": "code",
      "source": [
        "import tensorflow as tf\n",
        "tf.test.gpu_device_name()"
      ],
      "metadata": {
        "colab": {
          "base_uri": "https://localhost:8080/",
          "height": 35
        },
        "id": "E93lijCULM72",
        "outputId": "d93ff17e-4d30-4d8f-922a-4d15108cfe58"
      },
      "execution_count": null,
      "outputs": [
        {
          "output_type": "execute_result",
          "data": {
            "text/plain": [
              "'/device:GPU:0'"
            ],
            "application/vnd.google.colaboratory.intrinsic+json": {
              "type": "string"
            }
          },
          "metadata": {},
          "execution_count": 4
        }
      ]
    },
    {
      "cell_type": "code",
      "source": [
        "input_shape = (28, 28, 1)\n"
      ],
      "metadata": {
        "id": "ayYpCDMYLfVH"
      },
      "execution_count": null,
      "outputs": []
    },
    {
      "cell_type": "code",
      "source": [
        "def create_score_model(input_shape):\n",
        "\n",
        "\n",
        "    model = models.Sequential([\n",
        "        layers.Conv2D(32, (3, 3), activation='relu', input_shape=input_shape),\n",
        "        layers.MaxPooling2D((2, 2)),\n",
        "        layers.Conv2D(64, (3, 3), activation='relu'),\n",
        "        layers.MaxPooling2D((2, 2)),\n",
        "        layers.Conv2D(64, (3, 3), activation='relu'),\n",
        "        layers.Flatten(),\n",
        "        layers.Dense(64, activation='relu'),\n",
        "        layers.Dense(np.prod(input_shape))  # Output layer to match input dimensions\n",
        "    ])\n",
        "\n",
        "    return model"
      ],
      "metadata": {
        "id": "o4CJZRtvLoIH"
      },
      "execution_count": null,
      "outputs": []
    },
    {
      "cell_type": "code",
      "source": [
        "score_model = create_score_model(input_shape)"
      ],
      "metadata": {
        "id": "sbhKGnz_LnJF"
      },
      "execution_count": null,
      "outputs": []
    },
    {
      "cell_type": "code",
      "source": [
        "print(score_model)"
      ],
      "metadata": {
        "colab": {
          "base_uri": "https://localhost:8080/"
        },
        "id": "wu8DVJQaL1U-",
        "outputId": "3f2d7ba1-9c33-4e4f-f942-7143d641bffb"
      },
      "execution_count": null,
      "outputs": [
        {
          "output_type": "stream",
          "name": "stdout",
          "text": [
            "<keras.src.engine.sequential.Sequential object at 0x7aa0cb9395d0>\n"
          ]
        }
      ]
    },
    {
      "cell_type": "code",
      "source": [
        "def denoise_image(noisy_image, score_model, num_steps=100, step_size=0.01):\n",
        "\n",
        "\n",
        "    denoised_image = np.copy(noisy_image)\n",
        "\n",
        "    for step in range(num_steps):\n",
        "        # Estimate the score (gradient of log probability) at the current image\n",
        "        score = score_model.estimate_score(denoised_image)\n",
        "\n",
        "        # Update the image by following the score\n",
        "        denoised_image += step_size * score\n",
        "\n",
        "        # Optionally, you can include a noise term depending on the annealing schedule\n",
        "\n",
        "    return denoised_image"
      ],
      "metadata": {
        "id": "xmU6lp4oL4y0"
      },
      "execution_count": null,
      "outputs": []
    },
    {
      "cell_type": "code",
      "source": [
        "score_model.compile(optimizer='adam', loss='mean_squared_error')"
      ],
      "metadata": {
        "id": "h7EGWEgHMFqM"
      },
      "execution_count": null,
      "outputs": []
    },
    {
      "cell_type": "code",
      "source": [
        "train_images_reshaped = train_images.reshape((-1, 784))  # Reshape to [num_samples, 784]\n",
        "test_images_reshaped = test_images.reshape((-1, 784))  # Reshape to [num_samples, 784]"
      ],
      "metadata": {
        "id": "lpZkdw_OMIft"
      },
      "execution_count": null,
      "outputs": []
    },
    {
      "cell_type": "code",
      "source": [
        "score_model.fit(train_images_noisy, train_images_reshaped, epochs=10, batch_size=64, validation_split=0.1)"
      ],
      "metadata": {
        "colab": {
          "base_uri": "https://localhost:8080/",
          "height": 334
        },
        "id": "Bwm1lQpPMiyg",
        "outputId": "ad1738f5-74de-4116-810b-c10ca1f26b84"
      },
      "execution_count": null,
      "outputs": [
        {
          "output_type": "stream",
          "name": "stdout",
          "text": [
            "Epoch 1/10\n"
          ]
        },
        {
          "output_type": "error",
          "ename": "ValueError",
          "evalue": "ignored",
          "traceback": [
            "\u001b[0;31m---------------------------------------------------------------------------\u001b[0m",
            "\u001b[0;31mValueError\u001b[0m                                Traceback (most recent call last)",
            "\u001b[0;32m<ipython-input-17-39c86ab95ffc>\u001b[0m in \u001b[0;36m<cell line: 1>\u001b[0;34m()\u001b[0m\n\u001b[0;32m----> 1\u001b[0;31m \u001b[0mscore_model\u001b[0m\u001b[0;34m.\u001b[0m\u001b[0mfit\u001b[0m\u001b[0;34m(\u001b[0m\u001b[0mtrain_images_noisy\u001b[0m\u001b[0;34m,\u001b[0m \u001b[0mtrain_images_reshaped\u001b[0m\u001b[0;34m,\u001b[0m \u001b[0mepochs\u001b[0m\u001b[0;34m=\u001b[0m\u001b[0;36m10\u001b[0m\u001b[0;34m,\u001b[0m \u001b[0mbatch_size\u001b[0m\u001b[0;34m=\u001b[0m\u001b[0;36m64\u001b[0m\u001b[0;34m,\u001b[0m \u001b[0mvalidation_split\u001b[0m\u001b[0;34m=\u001b[0m\u001b[0;36m0.1\u001b[0m\u001b[0;34m)\u001b[0m\u001b[0;34m\u001b[0m\u001b[0;34m\u001b[0m\u001b[0m\n\u001b[0m",
            "\u001b[0;32m/usr/local/lib/python3.10/dist-packages/keras/src/utils/traceback_utils.py\u001b[0m in \u001b[0;36merror_handler\u001b[0;34m(*args, **kwargs)\u001b[0m\n\u001b[1;32m     68\u001b[0m             \u001b[0;31m# To get the full stack trace, call:\u001b[0m\u001b[0;34m\u001b[0m\u001b[0;34m\u001b[0m\u001b[0m\n\u001b[1;32m     69\u001b[0m             \u001b[0;31m# `tf.debugging.disable_traceback_filtering()`\u001b[0m\u001b[0;34m\u001b[0m\u001b[0;34m\u001b[0m\u001b[0m\n\u001b[0;32m---> 70\u001b[0;31m             \u001b[0;32mraise\u001b[0m \u001b[0me\u001b[0m\u001b[0;34m.\u001b[0m\u001b[0mwith_traceback\u001b[0m\u001b[0;34m(\u001b[0m\u001b[0mfiltered_tb\u001b[0m\u001b[0;34m)\u001b[0m \u001b[0;32mfrom\u001b[0m \u001b[0;32mNone\u001b[0m\u001b[0;34m\u001b[0m\u001b[0;34m\u001b[0m\u001b[0m\n\u001b[0m\u001b[1;32m     71\u001b[0m         \u001b[0;32mfinally\u001b[0m\u001b[0;34m:\u001b[0m\u001b[0;34m\u001b[0m\u001b[0;34m\u001b[0m\u001b[0m\n\u001b[1;32m     72\u001b[0m             \u001b[0;32mdel\u001b[0m \u001b[0mfiltered_tb\u001b[0m\u001b[0;34m\u001b[0m\u001b[0;34m\u001b[0m\u001b[0m\n",
            "\u001b[0;32m/usr/local/lib/python3.10/dist-packages/tensorflow/python/eager/polymorphic_function/polymorphic_function.py\u001b[0m in \u001b[0;36m_call\u001b[0;34m(self, *args, **kwds)\u001b[0m\n\u001b[1;32m    878\u001b[0m       )\n\u001b[1;32m    879\u001b[0m       \u001b[0;32mif\u001b[0m \u001b[0mself\u001b[0m\u001b[0;34m.\u001b[0m\u001b[0m_created_variables\u001b[0m\u001b[0;34m:\u001b[0m\u001b[0;34m\u001b[0m\u001b[0;34m\u001b[0m\u001b[0m\n\u001b[0;32m--> 880\u001b[0;31m         raise ValueError(\"Creating variables on a non-first call to a function\"\n\u001b[0m\u001b[1;32m    881\u001b[0m                          \" decorated with tf.function.\")\n\u001b[1;32m    882\u001b[0m       \u001b[0;32mreturn\u001b[0m \u001b[0mresults\u001b[0m\u001b[0;34m\u001b[0m\u001b[0;34m\u001b[0m\u001b[0m\n",
            "\u001b[0;31mValueError\u001b[0m: Creating variables on a non-first call to a function decorated with tf.function."
          ]
        }
      ]
    }
  ]
}
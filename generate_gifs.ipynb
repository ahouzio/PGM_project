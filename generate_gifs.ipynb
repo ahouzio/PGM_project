{
 "cells": [
  {
   "cell_type": "code",
   "execution_count": 2,
   "metadata": {},
   "outputs": [],
   "source": [
    "import pandas as pd\n",
    "import os\n",
    "import glob\n",
    "from PIL import Image, ImageDraw, ImageFont\n",
    "import re"
   ]
  },
  {
   "cell_type": "code",
   "execution_count": 3,
   "metadata": {},
   "outputs": [
    {
     "name": "stdout",
     "output_type": "stream",
     "text": [
      "c:\\Users\\Ahouz\\OneDrive\\Bureau\\PGM_papers\\PGM_project\\experiments\n"
     ]
    }
   ],
   "source": [
    "%cd ./experiments"
   ]
  },
  {
   "cell_type": "markdown",
   "metadata": {},
   "source": [
    "### Read the data containing different experiments "
   ]
  },
  {
   "cell_type": "code",
   "execution_count": null,
   "metadata": {},
   "outputs": [],
   "source": [
    "# folders are writen as 10_samples_100_steps_sigma_10.0000_1.0000_eps_0.01000_pretrained we scan for the pretrained folder and store parameters with corresponding folder name\n",
    "folders = os.listdir()\n",
    "folders = [folder for folder in folders if folder.endswith('pretrained')]\n",
    " \n",
    "# create empty dataframe\n",
    "df = pd.DataFrame(columns=['samples', 'steps', 'sigma_max', 'sigma_min', 'eps', 'folder'])\n",
    "    \n",
    "# loop over folders and store parameters\n",
    "for folder in folders:\n",
    "    split = folder.split('_')\n",
    "    samples, steps, sigma_max,sigma_min, eps = split[0], split[2], split[5], split[6], split[8]\n",
    "    df = df.append({'samples': samples, 'steps': steps, 'sigma_max': sigma_max, 'sigma_min': sigma_min, 'eps': eps, 'folder': folder, 'steps': steps}, ignore_index=True)\n",
    "# sort dataframe\n",
    "    \n",
    "df = df.sort_values(by=['samples', 'steps', 'sigma_max', 'sigma_min', 'eps'])\n",
    "    \n",
    "     "
   ]
  },
  {
   "cell_type": "markdown",
   "metadata": {},
   "source": [
    "### Effect of epsilon on the genrated images"
   ]
  },
  {
   "cell_type": "code",
   "execution_count": 21,
   "metadata": {},
   "outputs": [],
   "source": [
    "# first we need to create the folders\n",
    "eps_folders = df[df['sigma_max'] == '1.0000']\n",
    "eps_folders = eps_folders[eps_folders['sigma_min'] == '0.0010']\n",
    "eps_folders_eps = eps_folders['eps'].unique()\n",
    "if not os.path.exists('../effects_eps'):\n",
    "    os.mkdir('../effects_eps')\n",
    "for eps in eps_folders_eps:\n",
    "    if not os.path.exists('../effects_eps/eps_' + eps):\n",
    "        os.mkdir('../effects_eps/eps_' + eps)\n"
   ]
  },
  {
   "cell_type": "code",
   "execution_count": 22,
   "metadata": {},
   "outputs": [],
   "source": [
    "# now we need to create the gifs\n",
    "for eps in eps_folders_eps:\n",
    "    # get folder for this eps\n",
    "    eps_folder = eps_folders[eps_folders['eps'] == eps]['folder']\n",
    "    # create gif for each folder\n",
    "    for folder in eps_folder:\n",
    "        # get all images\n",
    "        images = glob.glob(folder + '/*.png')\n",
    "        # start from highest sigma to lower then sort by lowest step\n",
    "        images = sorted(images, key=lambda x: (-float(re.search(r'sigma_(\\d+\\.\\d+)', x.split(\"\\\\\")[1]).group(1)), int(re.search(r'step_([\\d]+)', x.split(\"\\\\\")[1]).group(1))))  \n",
    "        # create gif\n",
    "        gif_path = '../effects_eps/eps_' + eps + '/' + folder + '.gif'\n",
    "        gif_images = [Image.open(image) for image in images]\n",
    "        # delete all files image_*.png\n",
    "        for image in images:\n",
    "            # if image string is image_*.png\n",
    "            if re.search(r'image_([\\d]+).png', image.split(\"\\\\\")[1]):\n",
    "                os.remove(image)   \n",
    "        # extract step and sigma from image name\n",
    "        step_str_table = [int(re.search(r'step_([\\d]+)', image.split(\"\\\\\")[1]).group(1)) for image in images]\n",
    "        sigma_str_table = [re.search(r'sigma_(\\d+\\.\\d+)', image.split(\"\\\\\")[1]).group(1) for image in images]   \n",
    "        # create captions\n",
    "        captions = ['step: ' + str(step) + ' sigma: ' + str(sigma) for step, sigma in zip(step_str_table, sigma_str_table)]\n",
    "        # add captions to images\n",
    "        images_with_captions = []\n",
    "        for i, image in enumerate(images):\n",
    "            img = Image.open(image)\n",
    "            font = ImageFont.load_default()\n",
    "            # fill the extra space with white and paste the old img on the original position\n",
    "            big_img = Image.new('RGB', (img.width, img.height + 20), color = (255, 255, 255))\n",
    "            big_img.paste(img, (0, 0))  \n",
    "            draw = ImageDraw.Draw(big_img)\n",
    "            draw.text((0, img.height), captions[i], (0,0,0), font=font)\n",
    "            images_with_captions.append(big_img)      \n",
    "        # save gif\n",
    "        images_with_captions[0].save(gif_path, save_all=True, append_images=images_with_captions[:], duration=1000, loop=0)"
   ]
  },
  {
   "cell_type": "markdown",
   "metadata": {},
   "source": [
    "### Effect of sigma min"
   ]
  },
  {
   "cell_type": "code",
   "execution_count": 23,
   "metadata": {},
   "outputs": [],
   "source": [
    "# we get the folders with epsilon=0.00005 and sigma_max=1.0000 \n",
    "# the sigma_min will vary\n",
    "sigma_max_folders = df[df['eps'] == '0.00005']\n",
    "sigma_max_folders = sigma_max_folders[sigma_max_folders['sigma_max'] == '1.0000']\n",
    "sigma_max_folders_sigma_min = sigma_max_folders['sigma_min'].unique()\n",
    "if not os.path.exists('../effects_sigma_min'):\n",
    "    os.mkdir('../effects_sigma_min')\n",
    "for sigma_min in sigma_max_folders_sigma_min:\n",
    "    if not os.path.exists('../effects_sigma_min/sigma_min_' + sigma_min):\n",
    "        os.mkdir('../effects_sigma_min/sigma_min_' + sigma_min)\n",
    "            "
   ]
  },
  {
   "cell_type": "code",
   "execution_count": 24,
   "metadata": {},
   "outputs": [
    {
     "name": "stdout",
     "output_type": "stream",
     "text": [
      "6     10_samples_100_steps_sigma_1.0000_0.0010_eps_0...\n",
      "79    10_samples_150_steps_sigma_1.0000_0.0010_eps_0...\n",
      "80    10_samples_200_steps_sigma_1.0000_0.0010_eps_0...\n",
      "81    10_samples_50_steps_sigma_1.0000_0.0010_eps_0....\n",
      "Name: folder, dtype: object\n",
      "13    10_samples_100_steps_sigma_1.0000_0.0100_eps_0...\n",
      "Name: folder, dtype: object\n",
      "21    10_samples_100_steps_sigma_1.0000_0.1000_eps_0...\n",
      "Name: folder, dtype: object\n",
      "29    10_samples_100_steps_sigma_1.0000_1.0000_eps_0...\n",
      "Name: folder, dtype: object\n"
     ]
    }
   ],
   "source": [
    "# now we need to create the gifs\n",
    "for sigma_min in sigma_max_folders_sigma_min:\n",
    "    # get folder for this eps\n",
    "    sigma_min_folder = sigma_max_folders[sigma_max_folders['sigma_min'] == sigma_min]['folder']\n",
    "    print(sigma_min_folder)\n",
    "    # create gif for each folder\n",
    "    for folder in sigma_min_folder:\n",
    "        # get all images\n",
    "        images = glob.glob(folder + '/*.png')\n",
    "        # start from highest sigma to lower then sort by lowest step\n",
    "        images = sorted(images, key=lambda x: (-float(re.search(r'sigma_(\\d+\\.\\d+)', x.split(\"\\\\\")[1]).group(1)), int(re.search(r'step_([\\d]+)', x.split(\"\\\\\")[1]).group(1))))\n",
    "        # create gif\n",
    "        gif_path = '../effects_sigma_min/sigma_min_' + sigma_min + '/' + folder + '.gif'\n",
    "        gif_images = [Image.open(image) for image in images]\n",
    "        # delete all files image_*.png\n",
    "        for image in images:\n",
    "            # if image string is image_*.png\n",
    "            if re.search(r'image_([\\d]+).png', image.split(\"\\\\\")[1]):\n",
    "                os.remove(image)\n",
    "        # extract step and sigma from image name\n",
    "        step_str_table = [int(re.search(r'step_([\\d]+)', image.split(\"\\\\\")[1]).group(1)) for image in images]\n",
    "        sigma_str_table = [re.search(r'sigma_(\\d+\\.\\d+)', image.split(\"\\\\\")[1]).group(1) for image in images]\n",
    "        # create captions\n",
    "        captions = ['step: ' + str(step) + ' sigma: ' + str(sigma) for step, sigma in zip(step_str_table, sigma_str_table)]\n",
    "        # add captions to images\n",
    "        images_with_captions = []\n",
    "        for i, image in enumerate(images):\n",
    "            img = Image.open(image)\n",
    "            font = ImageFont.load_default()\n",
    "            # fill the extra space with white and paste the old img on the original position\n",
    "            big_img = Image.new('RGB', (img.width, img.height + 20), color = (255, 255, 255))\n",
    "            big_img.paste(img, (0, 0))  \n",
    "            draw = ImageDraw.Draw(big_img)\n",
    "            draw.text((0, img.height), captions[i], (0,0,0), font=font)\n",
    "            images_with_captions.append(big_img)\n",
    "             \n",
    "        # save gif\n",
    "        images_with_captions[0].save(gif_path, save_all=True, append_images=images_with_captions[:], duration=1000, loop=0)"
   ]
  },
  {
   "cell_type": "markdown",
   "metadata": {},
   "source": [
    "### Effect of sigma max"
   ]
  },
  {
   "cell_type": "code",
   "execution_count": 25,
   "metadata": {},
   "outputs": [],
   "source": [
    "# we get the folders with epsilon=0.00005 and sigma_min=0.0010\n",
    "# the sigma_max will vary\n",
    "sigma_min_folders = df[df['eps'] == '0.00005']\n",
    "sigma_min_folders = sigma_min_folders[sigma_min_folders['sigma_min'] == '0.0010']\n",
    "sigma_min_folders_sigma_max = sigma_min_folders['sigma_max'].unique()\n",
    "if not os.path.exists('../effects_sigma_max'):\n",
    "    os.mkdir('../effects_sigma_max')\n",
    "for sigma_max in sigma_min_folders_sigma_max:\n",
    "    if not os.path.exists('../effects_sigma_max/sigma_max_' + sigma_max):\n",
    "        os.mkdir('../effects_sigma_max/sigma_max_' + sigma_max)\n",
    "    "
   ]
  },
  {
   "cell_type": "code",
   "execution_count": 26,
   "metadata": {},
   "outputs": [
    {
     "name": "stdout",
     "output_type": "stream",
     "text": [
      "0    10_samples_100_steps_sigma_0.0100_0.0010_eps_0...\n",
      "Name: folder, dtype: object\n",
      "1    10_samples_100_steps_sigma_0.1000_0.0010_eps_0...\n",
      "Name: folder, dtype: object\n",
      "6     10_samples_100_steps_sigma_1.0000_0.0010_eps_0...\n",
      "79    10_samples_150_steps_sigma_1.0000_0.0010_eps_0...\n",
      "80    10_samples_200_steps_sigma_1.0000_0.0010_eps_0...\n",
      "81    10_samples_50_steps_sigma_1.0000_0.0010_eps_0....\n",
      "Name: folder, dtype: object\n",
      "45    10_samples_100_steps_sigma_10.0000_0.0010_eps_...\n",
      "Name: folder, dtype: object\n",
      "75    10_samples_100_steps_sigma_2.0000_0.0010_eps_0...\n",
      "Name: folder, dtype: object\n",
      "76    10_samples_100_steps_sigma_4.0000_0.0010_eps_0...\n",
      "Name: folder, dtype: object\n",
      "77    10_samples_100_steps_sigma_6.0000_0.0010_eps_0...\n",
      "Name: folder, dtype: object\n",
      "78    10_samples_100_steps_sigma_8.0000_0.0010_eps_0...\n",
      "Name: folder, dtype: object\n"
     ]
    }
   ],
   "source": [
    "# now we need to create the gifs \n",
    "    \n",
    "for sigma_max in sigma_min_folders_sigma_max:\n",
    "    # get folder for this eps\n",
    "    sigma_max_folder = sigma_min_folders[sigma_min_folders['sigma_max'] == sigma_max]['folder']\n",
    "    print(sigma_max_folder)\n",
    "    # create gif for each folder\n",
    "    for folder in sigma_max_folder:\n",
    "        # get all images\n",
    "        images = glob.glob(folder + '/*.png')\n",
    "        # start from highest sigma to lower then sort by lowest step\n",
    "        images = sorted(images, key=lambda x: (-float(re.search(r'sigma_(\\d+\\.\\d+)', x.split(\"\\\\\")[1]).group(1)), int(re.search(r'step_([\\d]+)', x.split(\"\\\\\")[1]).group(1))))  \n",
    "        # create gif\n",
    "        gif_path = '../effects_sigma_max/sigma_max_' + sigma_max + '/' + folder + '.gif'\n",
    "        gif_images = [Image.open(image) for image in images]\n",
    "        # delete all files image_*.png\n",
    "        for image in images:\n",
    "            # if image string is image_*.png\n",
    "            if re.search(r'image_([\\d]+).png', image.split(\"\\\\\")[1]):\n",
    "                os.remove(image)\n",
    "        # extract step and sigma from image name\n",
    "        step_str_table = [int(re.search(r'step_([\\d]+)', image.split(\"\\\\\")[1]).group(1)) for image in images]\n",
    "        sigma_str_table = [re.search(r'sigma_(\\d+\\.\\d+)', image.split(\"\\\\\")[1]).group(1) for image in images]\n",
    "        # create captions\n",
    "        captions = ['step: ' + str(step) + ' sigma: ' + str(sigma) for step, sigma in zip(step_str_table, sigma_str_table)]\n",
    "        # add captions to images\n",
    "        images_with_captions = []\n",
    "        for i, image in enumerate(images):\n",
    "            img = Image.open(image)\n",
    "            font = ImageFont.load_default()\n",
    "            # fill the extra space with white and paste the old img on the original position\n",
    "            big_img = Image.new('RGB', (img.width, img.height + 20), color = (255, 255, 255))\n",
    "            big_img.paste(img, (0, 0))  \n",
    "            draw = ImageDraw.Draw(big_img)\n",
    "            draw.text((0, img.height), captions[i], (0,0,0), font=font)\n",
    "            images_with_captions.append(big_img)\n",
    "             \n",
    "        # save gif\n",
    "        images_with_captions[0].save(gif_path, save_all=True, append_images=images_with_captions[:], duration=1000, loop=0)"
   ]
  },
  {
   "cell_type": "markdown",
   "metadata": {},
   "source": [
    "### Effect of step :"
   ]
  },
  {
   "cell_type": "code",
   "execution_count": 27,
   "metadata": {},
   "outputs": [],
   "source": [
    "#get the folders with sigma_max=1.0000 and sigma_min=0.0010 and epsilon=0.00005\n",
    "# the number of steps will vary\n",
    "steps_folders = df[df['eps'] == '0.00005']\n",
    "steps_folders = steps_folders[steps_folders['sigma_min'] == '0.0010']\n",
    "steps_folders = steps_folders[steps_folders['sigma_max'] == '1.0000']\n",
    "steps_folders_steps = steps_folders['steps'].unique()\n",
    "if not os.path.exists('../effects_steps'):\n",
    "    os.mkdir('../effects_steps')\n",
    "for steps in steps_folders_steps:\n",
    "    if not os.path.exists('../effects_steps/steps_' + steps):\n",
    "        os.mkdir('../effects_steps/steps_' + steps)\n",
    "         "
   ]
  },
  {
   "cell_type": "code",
   "execution_count": 28,
   "metadata": {},
   "outputs": [
    {
     "data": {
      "text/plain": [
       "array(['100', '150', '200', '50'], dtype=object)"
      ]
     },
     "execution_count": 28,
     "metadata": {},
     "output_type": "execute_result"
    }
   ],
   "source": [
    "steps_folders_steps"
   ]
  },
  {
   "cell_type": "code",
   "execution_count": 29,
   "metadata": {},
   "outputs": [],
   "source": [
    "# now we need to create the gifs\n",
    "for steps in steps_folders_steps:\n",
    "    # get folder for this eps\n",
    "    steps_folder = steps_folders[steps_folders['steps'] == steps]['folder']\n",
    "    # create gif for each folder\n",
    "    for folder in steps_folder:\n",
    "        # get all images\n",
    "        images = glob.glob(folder + '/*.png')\n",
    "        # start from highest sigma to lower then sort by lowest step\n",
    "        images = sorted(images, key=lambda x: (-float(re.search(r'sigma_(\\d+\\.\\d+)', x.split(\"\\\\\")[1]).group(1)), int(re.search(r'step_([\\d]+)', x.split(\"\\\\\")[1]).group(1))))  \n",
    "        # create gif\n",
    "        gif_path = '../effects_steps/steps_' + steps + '/' + folder + '.gif'\n",
    "        gif_images = [Image.open(image) for image in images]\n",
    "        # delete all files image_*.png\n",
    "        for image in images:\n",
    "            # if image string is image_*.png\n",
    "            if re.search(r'image_([\\d]+).png', image.split(\"\\\\\")[1]):\n",
    "                os.remove(image)\n",
    "        # extract step and sigma from image name\n",
    "        step_str_table = [int(re.search(r'step_([\\d]+)', image.split(\"\\\\\")[1]).group(1)) for image in images]\n",
    "        sigma_str_table = [re.search(r'sigma_(\\d+\\.\\d+)', image.split(\"\\\\\")[1]).group(1) for image in images]\n",
    "        # create captions\n",
    "        captions = ['step: ' + str(step) + ' sigma: ' + str(sigma) for step, sigma in zip(step_str_table, sigma_str_table)]\n",
    "        # add captions to images\n",
    "        images_with_captions = []\n",
    "        for i, image in enumerate(images):\n",
    "            img = Image.open(image)\n",
    "            font = ImageFont.load_default()\n",
    "            # fill the extra space with white and paste the old img on the original position\n",
    "            big_img = Image.new('RGB', (img.width, img.height + 20), color = (255, 255, 255))\n",
    "            big_img.paste(img, (0, 0))  \n",
    "            draw = ImageDraw.Draw(big_img)\n",
    "            draw.text((0, img.height), captions[i], (0,0,0), font=font)\n",
    "            images_with_captions.append(big_img)\n",
    "             \n",
    "        # save gif\n",
    "        images_with_captions[0].save(gif_path, save_all=True, append_images=images_with_captions[:], duration=1000, loop=0)"
   ]
  },
  {
   "cell_type": "code",
   "execution_count": null,
   "metadata": {},
   "outputs": [],
   "source": []
  }
 ],
 "metadata": {
  "kernelspec": {
   "display_name": "base",
   "language": "python",
   "name": "python3"
  },
  "language_info": {
   "codemirror_mode": {
    "name": "ipython",
    "version": 3
   },
   "file_extension": ".py",
   "mimetype": "text/x-python",
   "name": "python",
   "nbconvert_exporter": "python",
   "pygments_lexer": "ipython3",
   "version": "3.8.15"
  }
 },
 "nbformat": 4,
 "nbformat_minor": 2
}
